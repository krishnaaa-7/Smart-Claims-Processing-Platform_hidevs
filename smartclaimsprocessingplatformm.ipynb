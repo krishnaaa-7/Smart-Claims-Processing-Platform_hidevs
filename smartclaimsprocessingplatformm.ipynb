{
  "nbformat": 4,
  "nbformat_minor": 0,
  "metadata": {
    "colab": {
      "provenance": [],
      "authorship_tag": "ABX9TyPEmPDLANqdjHyUTgvOv5r+",
      "include_colab_link": true
    },
    "kernelspec": {
      "name": "python3",
      "display_name": "Python 3"
    },
    "language_info": {
      "name": "python"
    }
  },
  "cells": [
    {
      "cell_type": "markdown",
      "metadata": {
        "id": "view-in-github",
        "colab_type": "text"
      },
      "source": [
        "<a href=\"https://colab.research.google.com/github/krishnaaa-7/Smart-Claims-Processing-Platform_hidevs/blob/main/smartclaimsprocessingplatformm.ipynb\" target=\"_parent\"><img src=\"https://colab.research.google.com/assets/colab-badge.svg\" alt=\"Open In Colab\"/></a>"
      ]
    },
    {
      "cell_type": "code",
      "source": [
        "!sudo apt install tesseract-ocr -y > /dev/null\n",
        "!pip install pytesseract transformers huggingface_hub --quiet\n"
      ],
      "metadata": {
        "colab": {
          "base_uri": "https://localhost:8080/"
        },
        "id": "kMJjpwd5ZEp8",
        "outputId": "6e428c57-4680-4797-a6a9-987365dce4f8"
      },
      "execution_count": 83,
      "outputs": [
        {
          "output_type": "stream",
          "name": "stdout",
          "text": [
            "\n",
            "WARNING: apt does not have a stable CLI interface. Use with caution in scripts.\n",
            "\n"
          ]
        }
      ]
    },
    {
      "cell_type": "code",
      "source": [
        "from huggingface_hub import login\n",
        "from transformers import pipeline\n",
        "import pytesseract\n",
        "from PIL import Image\n",
        "import os\n",
        "\n",
        "# Log in with your Hugging Face token (stored as secret or hardcoded for now)\n",
        "from google.colab import userdata\n",
        "hf_token = userdata.get('HF_TOKEN') # Use your token here"
      ],
      "metadata": {
        "id": "d1jdhOIvZLf9"
      },
      "execution_count": 106,
      "outputs": []
    },
    {
      "cell_type": "code",
      "source": [
        "login(token=hf_token)"
      ],
      "metadata": {
        "id": "2Q1kH3hnuhP1"
      },
      "execution_count": 108,
      "outputs": []
    },
    {
      "cell_type": "code",
      "source": [
        "from google.colab import files\n",
        "uploaded = files.upload()  # Upload a claim image (jpg/png)\n",
        "\n",
        "file_name = next(iter(uploaded))\n",
        "img = Image.open(file_name)\n",
        "text = pytesseract.image_to_string(img)\n",
        "print(\"📄 Extracted Text:\\n\", text)\n"
      ],
      "metadata": {
        "colab": {
          "base_uri": "https://localhost:8080/",
          "height": 194
        },
        "id": "q37YuAvjZk_2",
        "outputId": "03d0872a-cf31-408a-c1b1-1fdf9941a660"
      },
      "execution_count": 109,
      "outputs": [
        {
          "output_type": "display_data",
          "data": {
            "text/plain": [
              "<IPython.core.display.HTML object>"
            ],
            "text/html": [
              "\n",
              "     <input type=\"file\" id=\"files-7aac2adb-d7a8-44f3-b26b-48ce8534337f\" name=\"files[]\" multiple disabled\n",
              "        style=\"border:none\" />\n",
              "     <output id=\"result-7aac2adb-d7a8-44f3-b26b-48ce8534337f\">\n",
              "      Upload widget is only available when the cell has been executed in the\n",
              "      current browser session. Please rerun this cell to enable.\n",
              "      </output>\n",
              "      <script>// Copyright 2017 Google LLC\n",
              "//\n",
              "// Licensed under the Apache License, Version 2.0 (the \"License\");\n",
              "// you may not use this file except in compliance with the License.\n",
              "// You may obtain a copy of the License at\n",
              "//\n",
              "//      http://www.apache.org/licenses/LICENSE-2.0\n",
              "//\n",
              "// Unless required by applicable law or agreed to in writing, software\n",
              "// distributed under the License is distributed on an \"AS IS\" BASIS,\n",
              "// WITHOUT WARRANTIES OR CONDITIONS OF ANY KIND, either express or implied.\n",
              "// See the License for the specific language governing permissions and\n",
              "// limitations under the License.\n",
              "\n",
              "/**\n",
              " * @fileoverview Helpers for google.colab Python module.\n",
              " */\n",
              "(function(scope) {\n",
              "function span(text, styleAttributes = {}) {\n",
              "  const element = document.createElement('span');\n",
              "  element.textContent = text;\n",
              "  for (const key of Object.keys(styleAttributes)) {\n",
              "    element.style[key] = styleAttributes[key];\n",
              "  }\n",
              "  return element;\n",
              "}\n",
              "\n",
              "// Max number of bytes which will be uploaded at a time.\n",
              "const MAX_PAYLOAD_SIZE = 100 * 1024;\n",
              "\n",
              "function _uploadFiles(inputId, outputId) {\n",
              "  const steps = uploadFilesStep(inputId, outputId);\n",
              "  const outputElement = document.getElementById(outputId);\n",
              "  // Cache steps on the outputElement to make it available for the next call\n",
              "  // to uploadFilesContinue from Python.\n",
              "  outputElement.steps = steps;\n",
              "\n",
              "  return _uploadFilesContinue(outputId);\n",
              "}\n",
              "\n",
              "// This is roughly an async generator (not supported in the browser yet),\n",
              "// where there are multiple asynchronous steps and the Python side is going\n",
              "// to poll for completion of each step.\n",
              "// This uses a Promise to block the python side on completion of each step,\n",
              "// then passes the result of the previous step as the input to the next step.\n",
              "function _uploadFilesContinue(outputId) {\n",
              "  const outputElement = document.getElementById(outputId);\n",
              "  const steps = outputElement.steps;\n",
              "\n",
              "  const next = steps.next(outputElement.lastPromiseValue);\n",
              "  return Promise.resolve(next.value.promise).then((value) => {\n",
              "    // Cache the last promise value to make it available to the next\n",
              "    // step of the generator.\n",
              "    outputElement.lastPromiseValue = value;\n",
              "    return next.value.response;\n",
              "  });\n",
              "}\n",
              "\n",
              "/**\n",
              " * Generator function which is called between each async step of the upload\n",
              " * process.\n",
              " * @param {string} inputId Element ID of the input file picker element.\n",
              " * @param {string} outputId Element ID of the output display.\n",
              " * @return {!Iterable<!Object>} Iterable of next steps.\n",
              " */\n",
              "function* uploadFilesStep(inputId, outputId) {\n",
              "  const inputElement = document.getElementById(inputId);\n",
              "  inputElement.disabled = false;\n",
              "\n",
              "  const outputElement = document.getElementById(outputId);\n",
              "  outputElement.innerHTML = '';\n",
              "\n",
              "  const pickedPromise = new Promise((resolve) => {\n",
              "    inputElement.addEventListener('change', (e) => {\n",
              "      resolve(e.target.files);\n",
              "    });\n",
              "  });\n",
              "\n",
              "  const cancel = document.createElement('button');\n",
              "  inputElement.parentElement.appendChild(cancel);\n",
              "  cancel.textContent = 'Cancel upload';\n",
              "  const cancelPromise = new Promise((resolve) => {\n",
              "    cancel.onclick = () => {\n",
              "      resolve(null);\n",
              "    };\n",
              "  });\n",
              "\n",
              "  // Wait for the user to pick the files.\n",
              "  const files = yield {\n",
              "    promise: Promise.race([pickedPromise, cancelPromise]),\n",
              "    response: {\n",
              "      action: 'starting',\n",
              "    }\n",
              "  };\n",
              "\n",
              "  cancel.remove();\n",
              "\n",
              "  // Disable the input element since further picks are not allowed.\n",
              "  inputElement.disabled = true;\n",
              "\n",
              "  if (!files) {\n",
              "    return {\n",
              "      response: {\n",
              "        action: 'complete',\n",
              "      }\n",
              "    };\n",
              "  }\n",
              "\n",
              "  for (const file of files) {\n",
              "    const li = document.createElement('li');\n",
              "    li.append(span(file.name, {fontWeight: 'bold'}));\n",
              "    li.append(span(\n",
              "        `(${file.type || 'n/a'}) - ${file.size} bytes, ` +\n",
              "        `last modified: ${\n",
              "            file.lastModifiedDate ? file.lastModifiedDate.toLocaleDateString() :\n",
              "                                    'n/a'} - `));\n",
              "    const percent = span('0% done');\n",
              "    li.appendChild(percent);\n",
              "\n",
              "    outputElement.appendChild(li);\n",
              "\n",
              "    const fileDataPromise = new Promise((resolve) => {\n",
              "      const reader = new FileReader();\n",
              "      reader.onload = (e) => {\n",
              "        resolve(e.target.result);\n",
              "      };\n",
              "      reader.readAsArrayBuffer(file);\n",
              "    });\n",
              "    // Wait for the data to be ready.\n",
              "    let fileData = yield {\n",
              "      promise: fileDataPromise,\n",
              "      response: {\n",
              "        action: 'continue',\n",
              "      }\n",
              "    };\n",
              "\n",
              "    // Use a chunked sending to avoid message size limits. See b/62115660.\n",
              "    let position = 0;\n",
              "    do {\n",
              "      const length = Math.min(fileData.byteLength - position, MAX_PAYLOAD_SIZE);\n",
              "      const chunk = new Uint8Array(fileData, position, length);\n",
              "      position += length;\n",
              "\n",
              "      const base64 = btoa(String.fromCharCode.apply(null, chunk));\n",
              "      yield {\n",
              "        response: {\n",
              "          action: 'append',\n",
              "          file: file.name,\n",
              "          data: base64,\n",
              "        },\n",
              "      };\n",
              "\n",
              "      let percentDone = fileData.byteLength === 0 ?\n",
              "          100 :\n",
              "          Math.round((position / fileData.byteLength) * 100);\n",
              "      percent.textContent = `${percentDone}% done`;\n",
              "\n",
              "    } while (position < fileData.byteLength);\n",
              "  }\n",
              "\n",
              "  // All done.\n",
              "  yield {\n",
              "    response: {\n",
              "      action: 'complete',\n",
              "    }\n",
              "  };\n",
              "}\n",
              "\n",
              "scope.google = scope.google || {};\n",
              "scope.google.colab = scope.google.colab || {};\n",
              "scope.google.colab._files = {\n",
              "  _uploadFiles,\n",
              "  _uploadFilesContinue,\n",
              "};\n",
              "})(self);\n",
              "</script> "
            ]
          },
          "metadata": {}
        },
        {
          "output_type": "stream",
          "name": "stdout",
          "text": [
            "Saving sample_claim_form.png to sample_claim_form (4).png\n",
            "📄 Extracted Text:\n",
            " CLAIM FoR Mane: John Doe Date: 2025-07-20 Description of Incident: While\n",
            "parking ny vehicle on 18th July 2025, another car reay-ended ny vehicle causing\n",
            "‘Significant danage to the rear bumper. The accident took place near EIn street,\n",
            "and a police report has been filed. Clain snout Requested: $1,500 Policy\n",
            "umber: nUro-4522-¥Y\n",
            "\f\n"
          ]
        }
      ]
    },
    {
      "cell_type": "code",
      "source": [
        "# Load zero-shot classification pipeline\n",
        "classifier = pipeline(\"zero-shot-classification\", model=\"facebook/bart-large-mnli\")\n",
        "\n",
        "# Labels you want to classify against\n",
        "labels = [\"Auto Claim\", \"Health Claim\", \"Property Claim\", \"Travel Claim\"]\n",
        "\n",
        "# Perform classification\n",
        "result = classifier(text, candidate_labels=labels)\n",
        "claim_type = result[\"labels\"][0]\n",
        "\n",
        "print(\" Predicted Claim Type:\", claim_type)\n"
      ],
      "metadata": {
        "colab": {
          "base_uri": "https://localhost:8080/"
        },
        "id": "Acz1BRtjaPT0",
        "outputId": "9483f884-148a-413f-8e84-bd831be1d59e"
      },
      "execution_count": 110,
      "outputs": [
        {
          "output_type": "stream",
          "name": "stderr",
          "text": [
            "Device set to use cpu\n"
          ]
        },
        {
          "output_type": "stream",
          "name": "stdout",
          "text": [
            " Predicted Claim Type: Auto Claim\n"
          ]
        }
      ]
    },
    {
      "cell_type": "code",
      "source": [
        "def route_claim(claim_type, text):\n",
        "    text_lower = text.lower()\n",
        "    if \"urgent\" in text_lower or \"accident\" in text_lower:\n",
        "        return \"🚨 Urgent Queue – Escalate Immediately\"\n",
        "    if claim_type == \"Auto Claim\" and \"collision\" in text_lower:\n",
        "        return \"🚗 Route to Collision Specialist\"\n",
        "    elif claim_type == \"Health Claim\" and \"surgery\" in text_lower:\n",
        "        return \"🏥 Route to Surgical Review Team\"\n",
        "    elif claim_type == \"Property Claim\" and \"fire\" in text_lower:\n",
        "        return \"🔥 Route to Fire Damage Team\"\n",
        "    else:\n",
        "        return f\"📥 General Routing for: {claim_type}\"\n"
      ],
      "metadata": {
        "id": "U3v3s5t4ahzp"
      },
      "execution_count": 111,
      "outputs": []
    },
    {
      "cell_type": "code",
      "source": [
        "import json\n",
        "\n",
        "policy_rules_content = {\n",
        "  \"exclusions\": {\n",
        "    \"alcohol\": \"Alcohol-related incident\",\n",
        "    \"fraud\": \"Potential fraudulent claim\",\n",
        "    \"expired policy\": \"Policy no longer active\",\n",
        "    \"intentional damage\": \"Self-inflicted or deliberate loss\"\n",
        "  },\n",
        "  \"limits\": {\n",
        "    \"max_amount\": \"1,00,000\"\n",
        "  }\n",
        "}\n",
        "\n",
        "with open(\"policy_rules.json\", \"w\") as f:\n",
        "    json.dump(policy_rules_content, f, indent=2)\n",
        "\n",
        "print(\"✅ policy_rules.json created successfully.\")"
      ],
      "metadata": {
        "colab": {
          "base_uri": "https://localhost:8080/"
        },
        "id": "vRezPzGDhPuZ",
        "outputId": "4370229c-cf6a-4778-ea3f-9b34c78c3c76"
      },
      "execution_count": 112,
      "outputs": [
        {
          "output_type": "stream",
          "name": "stdout",
          "text": [
            "✅ policy_rules.json created successfully.\n"
          ]
        }
      ]
    },
    {
      "cell_type": "code",
      "source": [
        "import json\n",
        "\n",
        "# Load policy rules from JSON\n",
        "with open(\"policy_rules.json\", \"r\") as f:\n",
        "    policy = json.load(f)\n",
        "\n",
        "def check_policy_exclusions(text):\n",
        "    exclusions = policy[\"exclusions\"]\n",
        "    for term, reason in exclusions.items():\n",
        "        if term.lower() in text.lower():\n",
        "            return f\"❌ Rejected: {reason} ({term})\"\n",
        "\n",
        "    # Limit validation (simplified)\n",
        "    if \"₹\" in text and policy[\"limits\"][\"max_amount\"] in text:\n",
        "        return \"⚠️ Amount exceeds policy coverage – Manual Review\"\n",
        "\n",
        "    return \"✅ Passed Compliance\"\n",
        "\n"
      ],
      "metadata": {
        "id": "-E-EOSmFalsR"
      },
      "execution_count": 113,
      "outputs": []
    },
    {
      "cell_type": "code",
      "source": [
        "def check_policy_compliance(text):\n",
        "    exclusions = [\"pre-existing\", \"non-covered\", \"expired\", \"excluded\"]\n",
        "    for word in exclusions:\n",
        "        if word in text.lower():\n",
        "            return \"❌ Policy Violation: Check for exclusions\"\n",
        "    return \"✅ Compliant with standard policy\"\n"
      ],
      "metadata": {
        "id": "7MHCL9jEnxsX"
      },
      "execution_count": 114,
      "outputs": []
    },
    {
      "cell_type": "code",
      "source": [
        "def check_policy_compliance(text, rules):\n",
        "    violations = []\n",
        "    for keyword, reason in rules[\"exclusions\"].items():\n",
        "        if keyword.lower() in text.lower():\n",
        "            violations.append(f\"❌ {reason}\")\n",
        "    if not violations:\n",
        "        return \"✅ No policy violations found.\"\n",
        "    return \"\\n\".join(violations)\n",
        "\n",
        "with open(\"policy_rules.json\") as f:\n",
        "    rules = json.load(f)\n",
        "compliance_result = check_policy_compliance(text, rules)\n",
        "\n"
      ],
      "metadata": {
        "id": "THbu_RfYoVBn"
      },
      "execution_count": 115,
      "outputs": []
    },
    {
      "cell_type": "code",
      "source": [
        "from datetime import datetime\n",
        "print(\"🕒 Time Processed:\", datetime.now())\n"
      ],
      "metadata": {
        "colab": {
          "base_uri": "https://localhost:8080/"
        },
        "id": "RyYzxG2efZZD",
        "outputId": "86a98ff7-41a9-4901-e5c2-bdd8219e5e50"
      },
      "execution_count": 116,
      "outputs": [
        {
          "output_type": "stream",
          "name": "stdout",
          "text": [
            "🕒 Time Processed: 2025-07-20 07:23:15.625814\n"
          ]
        }
      ]
    },
    {
      "cell_type": "code",
      "source": [
        "import matplotlib.pyplot as plt\n",
        "\n",
        "# Plot classification confidence scores\n",
        "labels = result[\"labels\"]\n",
        "scores = result[\"scores\"]\n",
        "\n",
        "plt.figure(figsize=(8, 4))\n",
        "plt.barh(labels[::-1], scores[::-1], color='darkgreen')\n",
        "plt.xlabel(\"Confidence\")\n",
        "plt.title(\"🧠 Claim Type Confidence Scores\")\n",
        "plt.xlim(0, 1)\n",
        "plt.grid(axis='x', linestyle='--', alpha=0.7)\n",
        "plt.tight_layout()\n",
        "plt.show()\n"
      ],
      "metadata": {
        "colab": {
          "base_uri": "https://localhost:8080/",
          "height": 476
        },
        "id": "dS90DjJFf51y",
        "outputId": "f8d9f789-5e4d-4c98-a946-fb1612684cce"
      },
      "execution_count": 117,
      "outputs": [
        {
          "output_type": "stream",
          "name": "stderr",
          "text": [
            "/tmp/ipython-input-117-1987297157.py:13: UserWarning: Glyph 129504 (\\N{BRAIN}) missing from font(s) DejaVu Sans.\n",
            "  plt.tight_layout()\n",
            "/usr/local/lib/python3.11/dist-packages/IPython/core/pylabtools.py:151: UserWarning: Glyph 129504 (\\N{BRAIN}) missing from font(s) DejaVu Sans.\n",
            "  fig.canvas.print_figure(bytes_io, **kw)\n"
          ]
        },
        {
          "output_type": "display_data",
          "data": {
            "text/plain": [
              "<Figure size 800x400 with 1 Axes>"
            ],
            "image/png": "[encoded data removed]"
          },
          "metadata": {}
        }
      ]
    },
    {
      "cell_type": "code",
      "source": [
        "import csv\n",
        "from datetime import datetime\n",
        "\n",
        "# Define the CSV file name\n",
        "csv_filename = \"claim_logs.csv\"\n",
        "\n",
        "# Prepare data to log\n",
        "log_row = [\n",
        "    datetime.now().strftime(\"%Y-%m-%d %H:%M:%S\"),\n",
        "    claim_type,\n",
        "    routing,\n",
        "    compliance_result,\n",
        "    text.replace('\\n', ' ')[:100]  # Shortened claim text\n",
        "]\n",
        "\n",
        "# Write to CSV (append mode)\n",
        "with open(csv_filename, mode='a', newline='', encoding='utf-8') as file:\n",
        "    writer = csv.writer(file)\n",
        "    writer.writerow(log_row)\n",
        "\n",
        "print(f\"✅ Result logged to {csv_filename}\")\n"
      ],
      "metadata": {
        "colab": {
          "base_uri": "https://localhost:8080/"
        },
        "id": "Pz9VztjUf763",
        "outputId": "7afda2d1-4421-4df1-b57d-bf5093e3dfc5"
      },
      "execution_count": 118,
      "outputs": [
        {
          "output_type": "stream",
          "name": "stdout",
          "text": [
            "✅ Result logged to claim_logs.csv\n"
          ]
        }
      ]
    },
    {
      "cell_type": "code",
      "source": [
        "{\n",
        "  \"exclusions\": {\n",
        "    \"alcohol\": \"Alcohol-related incident\",\n",
        "    \"fraud\": \"Potential fraudulent claim\",\n",
        "    \"expired policy\": \"Policy no longer active\",\n",
        "    \"intentional damage\": \"Self-inflicted or deliberate loss\"\n",
        "  },\n",
        "  \"limits\": {\n",
        "    \"max_amount\": \"1,00,000\"\n",
        "  }\n",
        "}\n"
      ],
      "metadata": {
        "colab": {
          "base_uri": "https://localhost:8080/"
        },
        "id": "0vnduMuEgJIf",
        "outputId": "b6510326-1015-4867-c14f-e9838ee495aa"
      },
      "execution_count": 119,
      "outputs": [
        {
          "output_type": "execute_result",
          "data": {
            "text/plain": [
              "{'exclusions': {'alcohol': 'Alcohol-related incident',\n",
              "  'fraud': 'Potential fraudulent claim',\n",
              "  'expired policy': 'Policy no longer active',\n",
              "  'intentional damage': 'Self-inflicted or deliberate loss'},\n",
              " 'limits': {'max_amount': '1,00,000'}}"
            ]
          },
          "metadata": {},
          "execution_count": 119
        }
      ]
    },
    {
      "cell_type": "code",
      "source": [
        "print(\"\\n======FINAL RESULT======\")\n",
        "print(\"Extracted Text:\\n\", text)\n",
        "print(\"Claim Type:\", claim_type)\n",
        "print(\"Routing Decision:\", routing)\n",
        "print(\"Policy Compliance Check:\\n\", compliance_result)\n",
        "print(\"Compliance Result:\", compliance_result)\n"
      ],
      "metadata": {
        "colab": {
          "base_uri": "https://localhost:8080/"
        },
        "id": "qDnt1GL1gMUs",
        "outputId": "5c3a5862-0bd5-4f84-8797-483fadaed8e3"
      },
      "execution_count": 120,
      "outputs": [
        {
          "output_type": "stream",
          "name": "stdout",
          "text": [
            "\n",
            "======FINAL RESULT======\n",
            "Extracted Text:\n",
            " CLAIM FoR Mane: John Doe Date: 2025-07-20 Description of Incident: While\n",
            "parking ny vehicle on 18th July 2025, another car reay-ended ny vehicle causing\n",
            "‘Significant danage to the rear bumper. The accident took place near EIn street,\n",
            "and a police report has been filed. Clain snout Requested: $1,500 Policy\n",
            "umber: nUro-4522-¥Y\n",
            "\f\n",
            "Claim Type: Auto Claim\n",
            "Routing Decision: 🚗 Route to Auto Dept\n",
            "Policy Compliance Check:\n",
            " ✅ No policy violations found.\n",
            "Compliance Result: ✅ No policy violations found.\n"
          ]
        }
      ]
    }
  ]
}